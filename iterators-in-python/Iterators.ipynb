{
 "cells": [
  {
   "cell_type": "code",
   "execution_count": null,
   "id": "f9c3bece",
   "metadata": {},
   "outputs": [],
   "source": [
    "%%html\n",
    "<style type='text/css'>\n",
    ".CodeMirror{\n",
    "font-size: 20px;\n",
    "</style>"
   ]
  },
  {
   "cell_type": "markdown",
   "id": "5e674b48",
   "metadata": {},
   "source": [
    "![title](intro.png)"
   ]
  },
  {
   "cell_type": "markdown",
   "id": "4507c4d7",
   "metadata": {},
   "source": [
    "![title](profile.png)"
   ]
  },
  {
   "cell_type": "markdown",
   "id": "9f038270",
   "metadata": {},
   "source": [
    "![title](phrase1.png)"
   ]
  },
  {
   "cell_type": "code",
   "execution_count": null,
   "id": "0c1017c5",
   "metadata": {},
   "outputs": [],
   "source": [
    "# An iterable example\n",
    "lista = [1, 2, 3]\n",
    "\n",
    "# Let's inspect an object 🔎\n",
    "dir(lista)"
   ]
  },
  {
   "cell_type": "markdown",
   "id": "626ad004",
   "metadata": {},
   "source": [
    "![title](phrase2.png)"
   ]
  },
  {
   "cell_type": "code",
   "execution_count": null,
   "id": "a6cdb552",
   "metadata": {},
   "outputs": [],
   "source": [
    "# An iterator example\n",
    "my_list = [1, 2, 3]\n",
    "\n",
    "# Make an interator out of an iterable\n",
    "iter_list = iter(my_list)\n",
    "\n",
    "\n",
    "# Let's inspect an object 🔎\n",
    "# What is different?\n",
    "dir(iter_list)"
   ]
  },
  {
   "cell_type": "markdown",
   "id": "723051c9",
   "metadata": {},
   "source": [
    "![title](speed-dating.png)\n"
   ]
  },
  {
   "cell_type": "code",
   "execution_count": null,
   "id": "9e4b216e",
   "metadata": {},
   "outputs": [],
   "source": [
    "# An iterator example\n",
    "candidates = [\"Felix\", \"Marco\", \"Misha\", \"Paul\"]\n",
    "\n",
    "# Make an interator out of an iterable\n",
    "speed_dating = iter(candidates)\n",
    "\n",
    "print(next(speed_dating))\n",
    "print(next(speed_dating))\n",
    "print(next(speed_dating))\n",
    "print(next(speed_dating))\n"
   ]
  },
  {
   "cell_type": "markdown",
   "id": "34adba9f",
   "metadata": {},
   "source": [
    "![title](iterators_3.png)"
   ]
  },
  {
   "cell_type": "markdown",
   "id": "7123deee",
   "metadata": {},
   "source": [
    "![title](iterators_5.png)"
   ]
  },
  {
   "cell_type": "markdown",
   "id": "e7e6ce07",
   "metadata": {},
   "source": [
    "![title](for_while.png)"
   ]
  },
  {
   "cell_type": "code",
   "execution_count": null,
   "id": "13bae7a9",
   "metadata": {},
   "outputs": [],
   "source": [
    "# `for` loop\n",
    "word = \"Happy\"\n",
    "\n",
    "for char in word:\n",
    "    print(char)"
   ]
  },
  {
   "cell_type": "code",
   "execution_count": null,
   "id": "8ce5c2d3",
   "metadata": {},
   "outputs": [],
   "source": [
    "# `while` loop\n",
    "\n",
    "word = \"Happy\"\n",
    "\n",
    "iter_word = iter(word)\n",
    "\n",
    "while True:\n",
    "    try:\n",
    "        element = next(iter_word)\n",
    "        print(element)\n",
    "    except StopIteration:\n",
    "        break\n"
   ]
  },
  {
   "cell_type": "markdown",
   "id": "84281824",
   "metadata": {},
   "source": [
    "### To sum up"
   ]
  },
  {
   "cell_type": "markdown",
   "id": "8a5d3e75",
   "metadata": {},
   "source": [
    "![title](iterator_versus_iterator.jpg)"
   ]
  },
  {
   "cell_type": "markdown",
   "id": "6c6afbf6",
   "metadata": {},
   "source": [
    "# Custom Iterators\n",
    "The methods __iter__() and __next__() must be implemented for an object to be an iterator object. \n",
    "\n",
    "The implementation of these methods is known as the **iterator protocol**.\n",
    "\n",
    "Example:"
   ]
  },
  {
   "cell_type": "code",
   "execution_count": 7,
   "id": "e6bf621f",
   "metadata": {},
   "outputs": [],
   "source": [
    "class MyRange:\n",
    "    def __init__(self, max):\n",
    "        self.n = 0\n",
    "        self.max = max\n",
    "    def __iter__(self):\n",
    "        return self\n",
    "    def __next__(self):\n",
    "        if self.n < self.max:\n",
    "            result = 1 + self.n\n",
    "            self.n += 1\n",
    "            return result\n",
    "        else:\n",
    "            raise StopIteration\n"
   ]
  },
  {
   "cell_type": "code",
   "execution_count": 12,
   "id": "7a27b9d0",
   "metadata": {},
   "outputs": [
    {
     "name": "stdout",
     "output_type": "stream",
     "text": [
      "Hey you, this is the end of your iterator!\n"
     ]
    }
   ],
   "source": [
    "my_range = MyRange(3)\n",
    "\n",
    "next(my_range)\n",
    "next(my_range)\n",
    "next(my_range)\n",
    "\n",
    "try:\n",
    "    next(my_range)\n",
    "except StopIteration:\n",
    "    print(\"Hey you, this is the end of your iterator!\")"
   ]
  },
  {
   "cell_type": "code",
   "execution_count": 13,
   "id": "cb000ba7",
   "metadata": {},
   "outputs": [
    {
     "name": "stdout",
     "output_type": "stream",
     "text": [
      "Even list: [0, 2, 4, 6, 8]\n",
      "[('Jonas', 'Bel'), ('Jonas', 'Ale'), ('Bel', 'Ale')]\n",
      "[2, 4, 8, 16, 32, 64]\n"
     ]
    }
   ],
   "source": [
    "import itertools\n",
    "from itertools import count, chain, combinations\n",
    "\n",
    "# count \n",
    "# creates a count iterator object\n",
    "iterator =(count(start = 0, step = 2))\n",
    "  \n",
    "# prints a odd list of integers\n",
    "print(\"Even list:\", \n",
    "      list(next(iterator) for _ in range(5)))\n",
    "  \n",
    "# combinations(iterable, r)\n",
    "print(list(itertools.combinations([\"Jonas\", \"Bel\", \"Ale\"], 2)))\n",
    "\n",
    "# Take in one or more iterables make them into one\n",
    "# chain(*iterables)\n",
    "print(list(itertools.chain([2, 4, 8, 16], [32, 64])))"
   ]
  },
  {
   "cell_type": "markdown",
   "id": "8fb99f13",
   "metadata": {},
   "source": [
    "## More examples"
   ]
  },
  {
   "cell_type": "code",
   "execution_count": 17,
   "id": "47ecb6da",
   "metadata": {},
   "outputs": [
    {
     "name": "stdout",
     "output_type": "stream",
     "text": [
      "Pyladies Dublin\n",
      "Pyladies Munich\n",
      "Pyladies Berlin\n"
     ]
    },
    {
     "ename": "StopIteration",
     "evalue": "",
     "output_type": "error",
     "traceback": [
      "\u001b[0;31m---------------------------------------------------------------------------\u001b[0m",
      "\u001b[0;31mStopIteration\u001b[0m                             Traceback (most recent call last)",
      "\u001b[0;32m/var/folders/vd/r5w9l0rn4c76lh7hqtj46mx00000gp/T/ipykernel_80564/1241130506.py\u001b[0m in \u001b[0;36m<module>\u001b[0;34m\u001b[0m\n\u001b[1;32m     22\u001b[0m \u001b[0;34m\u001b[0m\u001b[0m\n\u001b[1;32m     23\u001b[0m \u001b[0;31m# Four element\u001b[0m\u001b[0;34m\u001b[0m\u001b[0;34m\u001b[0m\u001b[0m\n\u001b[0;32m---> 24\u001b[0;31m \u001b[0mnext\u001b[0m\u001b[0;34m(\u001b[0m\u001b[0mpyladies_iterator\u001b[0m\u001b[0;34m)\u001b[0m\u001b[0;34m\u001b[0m\u001b[0;34m\u001b[0m\u001b[0m\n\u001b[0m",
      "\u001b[0;31mStopIteration\u001b[0m: "
     ]
    }
   ],
   "source": [
    "pyladies = {\n",
    "  \"Pyladies Dublin\": 1255,\n",
    "  \"Pyladies Munich\": 805,\n",
    "  \"Pyladies Berlin\": 2138\n",
    "}\n",
    "\n",
    "# Write your code below:\n",
    "\n",
    "pyladies_iterator = iter(pyladies)\n",
    "\n",
    "# First element\n",
    "next_pyladies_1 = next(pyladies_iterator)\n",
    "print(next_pyladies_1)\n",
    "\n",
    "# Second element\n",
    "next_pyladies_2 = pyladies_iterator.__next__()\n",
    "print(next_pyladies_2)\n",
    "\n",
    "# Third element\n",
    "next_pyladies_3 = pyladies_iterator.__next__()\n",
    "print(next_pyladies_3)\n",
    "\n",
    "# Four element\n",
    "next(pyladies_iterator)"
   ]
  },
  {
   "cell_type": "code",
   "execution_count": null,
   "id": "245cc83d",
   "metadata": {},
   "outputs": [],
   "source": []
  }
 ],
 "metadata": {
  "kernelspec": {
   "display_name": "Python 3 (ipykernel)",
   "language": "python",
   "name": "python3"
  },
  "language_info": {
   "codemirror_mode": {
    "name": "ipython",
    "version": 3
   },
   "file_extension": ".py",
   "mimetype": "text/x-python",
   "name": "python",
   "nbconvert_exporter": "python",
   "pygments_lexer": "ipython3",
   "version": "3.10.0"
  }
 },
 "nbformat": 4,
 "nbformat_minor": 5
}
