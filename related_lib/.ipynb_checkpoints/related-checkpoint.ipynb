{
 "cells": [
  {
   "cell_type": "markdown",
   "metadata": {
    "slideshow": {
     "slide_type": "slide"
    }
   },
   "source": [
    "# related\n",
    "\n",
    "\n",
    "\n",
    "\n",
    "\n",
    "\n",
    "\n",
    "\n",
    "Python lib"
   ]
  },
  {
   "cell_type": "markdown",
   "metadata": {
    "slideshow": {
     "slide_type": "slide"
    }
   },
   "source": [
    "\n",
    "# what is related?\n",
    "\n",
    "\n",
    "* lib to create nested object models that can be de and/or serialized from nested python dictionaries.\n"
   ]
  },
  {
   "cell_type": "markdown",
   "metadata": {
    "slideshow": {
     "slide_type": "slide"
    }
   },
   "source": [
    "# why use related?\n",
    "\n",
    "* Validation and conversion to/from basic data, e.g.:\n",
    "  * str\n",
    "  * float\n",
    "  * bool\n",
    "* Conversion: \n",
    "  * to_yaml\n",
    "  * from_yaml\n",
    "  * to_json\n",
    "  * from_json\n",
    "  * to_dict\n",
    "  * to_model\n"
   ]
  },
  {
   "cell_type": "markdown",
   "metadata": {
    "slideshow": {
     "slide_type": "slide"
    }
   },
   "source": [
    "# Dataclasses vs Related\n",
    "\n",
    "* Validation and Conversion\n"
   ]
  },
  {
   "cell_type": "code",
   "execution_count": 8,
   "metadata": {
    "slideshow": {
     "slide_type": "skip"
    }
   },
   "outputs": [],
   "source": [
    "import dataclasses \n",
    "from dataclasses import dataclass\n",
    "import datetime as datetime\n",
    "import related as rl\n",
    "from related import immutable\n",
    "\n",
    "from os.path import join, dirname"
   ]
  },
  {
   "cell_type": "markdown",
   "metadata": {
    "slideshow": {
     "slide_type": "slide"
    }
   },
   "source": [
    "# basic types?\n",
    "\n",
    "### dataclasses: - not sure what to do!\n",
    "### related: - I will try my best!"
   ]
  },
  {
   "cell_type": "code",
   "execution_count": 9,
   "metadata": {
    "slideshow": {
     "slide_type": "fragment"
    }
   },
   "outputs": [
    {
     "name": "stdout",
     "output_type": "stream",
     "text": [
      "dataclass: Position(lat='10', lon='10.8', ref='1234')\n",
      "related: Position2(lat=10.0, lon=10.8, ref=1234)\n"
     ]
    }
   ],
   "source": [
    "@dataclass\n",
    "class Position:\n",
    "    lat: float\n",
    "    lon: float\n",
    "    ref: int\n",
    "\n",
    "@immutable\n",
    "class Position2:\n",
    "    lat = rl.FloatField()\n",
    "    lon = rl.FloatField()\n",
    "    ref = rl.IntegerField()\n",
    "\n",
    "dataclass_position = Position(\"10\",\"10.8\", '1234')\n",
    "related_position = Position2(\"10\",\"10.8\", '1234')\n",
    "\n",
    "print(\"dataclass:\",dataclass_position)\n",
    "print(\"related:\",related_position)"
   ]
  },
  {
   "cell_type": "markdown",
   "metadata": {
    "slideshow": {
     "slide_type": "slide"
    }
   },
   "source": [
    "# dates and times?\n",
    "\n",
    "### related: - let's go!\n",
    "### dataclasses: -yahoo! I am ready!\n"
   ]
  },
  {
   "cell_type": "code",
   "execution_count": 10,
   "metadata": {
    "slideshow": {
     "slide_type": "fragment"
    }
   },
   "outputs": [],
   "source": [
    "@dataclass\n",
    "class InfoTime:\n",
    "    created_on: datetime\n",
    "    data_from: datetime\n",
    "\n",
    "@immutable\n",
    "class InfoTime2:\n",
    "    created_on = rl.DateTimeField()\n",
    "    data_from = rl.DateTimeField()"
   ]
  },
  {
   "cell_type": "markdown",
   "metadata": {
    "slideshow": {
     "slide_type": "slide"
    }
   },
   "source": [
    "# different datetime formats? \n",
    "### related: - No problem!\n",
    "### dataclasses: -WHAT?"
   ]
  },
  {
   "cell_type": "code",
   "execution_count": 11,
   "metadata": {
    "slideshow": {
     "slide_type": "fragment"
    }
   },
   "outputs": [
    {
     "name": "stdout",
     "output_type": "stream",
     "text": [
      "dataclasses: InfoTime(created_on='12/21/2017 14:20:20', data_from='12-21-2017 14:20:20')\n",
      "\n",
      "related: InfoTime2(created_on=datetime.datetime(2017, 12, 21, 14, 20, 20, tzinfo=tzutc()), data_from=datetime.datetime(2017, 12, 21, 14, 20, 20, tzinfo=tzutc()))\n"
     ]
    }
   ],
   "source": [
    "dataclass_info_time = InfoTime('12/21/2017 14:20:20', '12-21-2017 14:20:20')\n",
    "related_info_time = InfoTime2('12/21/2017 14:20:20Z', '12-21-2017 14:20:20Z')\n",
    "\n",
    "print(\"dataclasses:\", dataclass_info_time)\n",
    "print(\"\\nrelated:\", related_info_time)"
   ]
  },
  {
   "cell_type": "markdown",
   "metadata": {
    "slideshow": {
     "slide_type": "slide"
    }
   },
   "source": [
    "# not a good time?\n",
    "### related: - sorry, not a good time!\n",
    "### dataclasses: - whatever! idc!"
   ]
  },
  {
   "cell_type": "code",
   "execution_count": 12,
   "metadata": {
    "slideshow": {
     "slide_type": "fragment"
    }
   },
   "outputs": [
    {
     "name": "stdout",
     "output_type": "stream",
     "text": [
      "dataclasses: InfoTime(created_on='2x', data_from='2xx')\n"
     ]
    },
    {
     "ename": "ValueError",
     "evalue": "('Unknown string format:', '2x')",
     "output_type": "error",
     "traceback": [
      "\u001b[0;31m---------------------------------------------------------------------------\u001b[0m",
      "\u001b[0;31mValueError\u001b[0m                                Traceback (most recent call last)",
      "\u001b[0;32m<ipython-input-12-16c06fc84cc9>\u001b[0m in \u001b[0;36m<module>\u001b[0;34m\u001b[0m\n\u001b[1;32m      2\u001b[0m \u001b[0mprint\u001b[0m\u001b[0;34m(\u001b[0m\u001b[0;34m\"dataclasses:\"\u001b[0m\u001b[0;34m,\u001b[0m \u001b[0mdataclass_info_time\u001b[0m\u001b[0;34m)\u001b[0m\u001b[0;34m\u001b[0m\u001b[0;34m\u001b[0m\u001b[0m\n\u001b[1;32m      3\u001b[0m \u001b[0;34m\u001b[0m\u001b[0m\n\u001b[0;32m----> 4\u001b[0;31m \u001b[0mrelated_info_time\u001b[0m \u001b[0;34m=\u001b[0m \u001b[0mInfoTime2\u001b[0m\u001b[0;34m(\u001b[0m\u001b[0;34m'2x'\u001b[0m\u001b[0;34m,\u001b[0m \u001b[0;34m'2xx'\u001b[0m\u001b[0;34m)\u001b[0m\u001b[0;34m\u001b[0m\u001b[0;34m\u001b[0m\u001b[0m\n\u001b[0m\u001b[1;32m      5\u001b[0m \u001b[0mprint\u001b[0m\u001b[0;34m(\u001b[0m\u001b[0;34m\"\\nrelated:\"\u001b[0m\u001b[0;34m,\u001b[0m \u001b[0mrelated_info_time\u001b[0m\u001b[0;34m)\u001b[0m\u001b[0;34m\u001b[0m\u001b[0;34m\u001b[0m\u001b[0m\n",
      "\u001b[0;32m<attrs generated init 5c276c72bd3e0c2c1c2ef4f283777f92df5b222e>\u001b[0m in \u001b[0;36m__init__\u001b[0;34m(self, created_on, data_from)\u001b[0m\n\u001b[1;32m      1\u001b[0m \u001b[0;32mdef\u001b[0m \u001b[0m__init__\u001b[0m\u001b[0;34m(\u001b[0m\u001b[0mself\u001b[0m\u001b[0;34m,\u001b[0m \u001b[0mcreated_on\u001b[0m\u001b[0;34m,\u001b[0m \u001b[0mdata_from\u001b[0m\u001b[0;34m)\u001b[0m\u001b[0;34m:\u001b[0m\u001b[0;34m\u001b[0m\u001b[0;34m\u001b[0m\u001b[0m\n\u001b[1;32m      2\u001b[0m     \u001b[0m_setattr\u001b[0m \u001b[0;34m=\u001b[0m \u001b[0m_cached_setattr\u001b[0m\u001b[0;34m.\u001b[0m\u001b[0m__get__\u001b[0m\u001b[0;34m(\u001b[0m\u001b[0mself\u001b[0m\u001b[0;34m,\u001b[0m \u001b[0mself\u001b[0m\u001b[0;34m.\u001b[0m\u001b[0m__class__\u001b[0m\u001b[0;34m)\u001b[0m\u001b[0;34m\u001b[0m\u001b[0;34m\u001b[0m\u001b[0m\n\u001b[0;32m----> 3\u001b[0;31m     \u001b[0m_setattr\u001b[0m\u001b[0;34m(\u001b[0m\u001b[0;34m'created_on'\u001b[0m\u001b[0;34m,\u001b[0m \u001b[0m__attr_converter_created_on\u001b[0m\u001b[0;34m(\u001b[0m\u001b[0mcreated_on\u001b[0m\u001b[0;34m)\u001b[0m\u001b[0;34m)\u001b[0m\u001b[0;34m\u001b[0m\u001b[0;34m\u001b[0m\u001b[0m\n\u001b[0m\u001b[1;32m      4\u001b[0m     \u001b[0m_setattr\u001b[0m\u001b[0;34m(\u001b[0m\u001b[0;34m'data_from'\u001b[0m\u001b[0;34m,\u001b[0m \u001b[0m__attr_converter_data_from\u001b[0m\u001b[0;34m(\u001b[0m\u001b[0mdata_from\u001b[0m\u001b[0;34m)\u001b[0m\u001b[0;34m)\u001b[0m\u001b[0;34m\u001b[0m\u001b[0;34m\u001b[0m\u001b[0m\n\u001b[1;32m      5\u001b[0m     \u001b[0;32mif\u001b[0m \u001b[0m_config\u001b[0m\u001b[0;34m.\u001b[0m\u001b[0m_run_validators\u001b[0m \u001b[0;32mis\u001b[0m \u001b[0;32mTrue\u001b[0m\u001b[0;34m:\u001b[0m\u001b[0;34m\u001b[0m\u001b[0;34m\u001b[0m\u001b[0m\n",
      "\u001b[0;32m~/.pyenv/versions/optimizer/lib/python3.7/site-packages/related/converters.py\u001b[0m in \u001b[0;36m__call__\u001b[0;34m(self, value)\u001b[0m\n\u001b[1;32m    227\u001b[0m         \u001b[0;32mdef\u001b[0m \u001b[0m__call__\u001b[0m\u001b[0;34m(\u001b[0m\u001b[0mself\u001b[0m\u001b[0;34m,\u001b[0m \u001b[0mvalue\u001b[0m\u001b[0;34m)\u001b[0m\u001b[0;34m:\u001b[0m\u001b[0;34m\u001b[0m\u001b[0;34m\u001b[0m\u001b[0m\n\u001b[1;32m    228\u001b[0m             \u001b[0;32mif\u001b[0m \u001b[0misinstance\u001b[0m\u001b[0;34m(\u001b[0m\u001b[0mvalue\u001b[0m\u001b[0;34m,\u001b[0m \u001b[0mstring_types\u001b[0m\u001b[0;34m)\u001b[0m\u001b[0;34m:\u001b[0m\u001b[0;34m\u001b[0m\u001b[0;34m\u001b[0m\u001b[0m\n\u001b[0;32m--> 229\u001b[0;31m                 \u001b[0mvalue\u001b[0m \u001b[0;34m=\u001b[0m \u001b[0mparser\u001b[0m\u001b[0;34m.\u001b[0m\u001b[0mparse\u001b[0m\u001b[0;34m(\u001b[0m\u001b[0mvalue\u001b[0m\u001b[0;34m)\u001b[0m\u001b[0;34m\u001b[0m\u001b[0;34m\u001b[0m\u001b[0m\n\u001b[0m\u001b[1;32m    230\u001b[0m \u001b[0;34m\u001b[0m\u001b[0m\n\u001b[1;32m    231\u001b[0m             \u001b[0;32mreturn\u001b[0m \u001b[0mvalue\u001b[0m\u001b[0;34m\u001b[0m\u001b[0;34m\u001b[0m\u001b[0m\n",
      "\u001b[0;32m~/.pyenv/versions/optimizer/lib/python3.7/site-packages/dateutil/parser/_parser.py\u001b[0m in \u001b[0;36mparse\u001b[0;34m(timestr, parserinfo, **kwargs)\u001b[0m\n\u001b[1;32m   1354\u001b[0m         \u001b[0;32mreturn\u001b[0m \u001b[0mparser\u001b[0m\u001b[0;34m(\u001b[0m\u001b[0mparserinfo\u001b[0m\u001b[0;34m)\u001b[0m\u001b[0;34m.\u001b[0m\u001b[0mparse\u001b[0m\u001b[0;34m(\u001b[0m\u001b[0mtimestr\u001b[0m\u001b[0;34m,\u001b[0m \u001b[0;34m**\u001b[0m\u001b[0mkwargs\u001b[0m\u001b[0;34m)\u001b[0m\u001b[0;34m\u001b[0m\u001b[0;34m\u001b[0m\u001b[0m\n\u001b[1;32m   1355\u001b[0m     \u001b[0;32melse\u001b[0m\u001b[0;34m:\u001b[0m\u001b[0;34m\u001b[0m\u001b[0;34m\u001b[0m\u001b[0m\n\u001b[0;32m-> 1356\u001b[0;31m         \u001b[0;32mreturn\u001b[0m \u001b[0mDEFAULTPARSER\u001b[0m\u001b[0;34m.\u001b[0m\u001b[0mparse\u001b[0m\u001b[0;34m(\u001b[0m\u001b[0mtimestr\u001b[0m\u001b[0;34m,\u001b[0m \u001b[0;34m**\u001b[0m\u001b[0mkwargs\u001b[0m\u001b[0;34m)\u001b[0m\u001b[0;34m\u001b[0m\u001b[0;34m\u001b[0m\u001b[0m\n\u001b[0m\u001b[1;32m   1357\u001b[0m \u001b[0;34m\u001b[0m\u001b[0m\n\u001b[1;32m   1358\u001b[0m \u001b[0;34m\u001b[0m\u001b[0m\n",
      "\u001b[0;32m~/.pyenv/versions/optimizer/lib/python3.7/site-packages/dateutil/parser/_parser.py\u001b[0m in \u001b[0;36mparse\u001b[0;34m(self, timestr, default, ignoretz, tzinfos, **kwargs)\u001b[0m\n\u001b[1;32m    646\u001b[0m \u001b[0;34m\u001b[0m\u001b[0m\n\u001b[1;32m    647\u001b[0m         \u001b[0;32mif\u001b[0m \u001b[0mres\u001b[0m \u001b[0;32mis\u001b[0m \u001b[0;32mNone\u001b[0m\u001b[0;34m:\u001b[0m\u001b[0;34m\u001b[0m\u001b[0;34m\u001b[0m\u001b[0m\n\u001b[0;32m--> 648\u001b[0;31m             \u001b[0;32mraise\u001b[0m \u001b[0mValueError\u001b[0m\u001b[0;34m(\u001b[0m\u001b[0;34m\"Unknown string format:\"\u001b[0m\u001b[0;34m,\u001b[0m \u001b[0mtimestr\u001b[0m\u001b[0;34m)\u001b[0m\u001b[0;34m\u001b[0m\u001b[0;34m\u001b[0m\u001b[0m\n\u001b[0m\u001b[1;32m    649\u001b[0m \u001b[0;34m\u001b[0m\u001b[0m\n\u001b[1;32m    650\u001b[0m         \u001b[0;32mif\u001b[0m \u001b[0mlen\u001b[0m\u001b[0;34m(\u001b[0m\u001b[0mres\u001b[0m\u001b[0;34m)\u001b[0m \u001b[0;34m==\u001b[0m \u001b[0;36m0\u001b[0m\u001b[0;34m:\u001b[0m\u001b[0;34m\u001b[0m\u001b[0;34m\u001b[0m\u001b[0m\n",
      "\u001b[0;31mValueError\u001b[0m: ('Unknown string format:', '2x')"
     ]
    }
   ],
   "source": [
    "dataclass_info_time = InfoTime('2x', '2xx')\n",
    "print(\"dataclasses:\", dataclass_info_time)\n",
    "\n",
    "related_info_time = InfoTime2('2x', '2xx')\n",
    "print(\"\\nrelated:\", related_info_time)\n"
   ]
  },
  {
   "cell_type": "markdown",
   "metadata": {
    "slideshow": {
     "slide_type": "slide"
    }
   },
   "source": [
    "# dataclasses and related\n",
    "## dataclasses: - not fair enough!\n",
    "## related: - true! ;)"
   ]
  },
  {
   "cell_type": "markdown",
   "metadata": {
    "slideshow": {
     "slide_type": "slide"
    }
   },
   "source": [
    "# not convinced ?\n",
    "\n",
    "### let's try again !"
   ]
  },
  {
   "cell_type": "markdown",
   "metadata": {
    "slideshow": {
     "slide_type": "slide"
    }
   },
   "source": [
    "# Watch out! :o\n",
    "\n",
    "\n",
    " It Is Mind Blowing!!!"
   ]
  },
  {
   "cell_type": "markdown",
   "metadata": {
    "slideshow": {
     "slide_type": "fragment"
    }
   },
   "source": [
    "![title](rl.png)\n",
    "\n",
    "source: https://github.com/genomoncology/related"
   ]
  },
  {
   "cell_type": "markdown",
   "metadata": {
    "slideshow": {
     "slide_type": "slide"
    }
   },
   "source": [
    "# other cool thing!"
   ]
  },
  {
   "cell_type": "code",
   "execution_count": 13,
   "metadata": {},
   "outputs": [],
   "source": [
    "import related"
   ]
  },
  {
   "cell_type": "code",
   "execution_count": 14,
   "metadata": {},
   "outputs": [
    {
     "name": "stdout",
     "output_type": "stream",
     "text": [
      "This is ev_mutable updated it: 2\n"
     ]
    },
    {
     "ename": "FrozenInstanceError",
     "evalue": "",
     "output_type": "error",
     "traceback": [
      "\u001b[0;31m---------------------------------------------------------------------------\u001b[0m",
      "\u001b[0;31mFrozenInstanceError\u001b[0m                       Traceback (most recent call last)",
      "\u001b[0;32m<ipython-input-14-73e553efba00>\u001b[0m in \u001b[0;36m<module>\u001b[0;34m\u001b[0m\n\u001b[1;32m     13\u001b[0m \u001b[0;34m\u001b[0m\u001b[0m\n\u001b[1;32m     14\u001b[0m \u001b[0mev_immutable\u001b[0m \u001b[0;34m=\u001b[0m \u001b[0mEvImmutable\u001b[0m\u001b[0;34m(\u001b[0m\u001b[0mid_number\u001b[0m\u001b[0;34m=\u001b[0m\u001b[0;36m2\u001b[0m\u001b[0;34m)\u001b[0m\u001b[0;34m\u001b[0m\u001b[0;34m\u001b[0m\u001b[0m\n\u001b[0;32m---> 15\u001b[0;31m \u001b[0mev_immutable\u001b[0m\u001b[0;34m.\u001b[0m\u001b[0mid_number\u001b[0m \u001b[0;34m=\u001b[0m \u001b[0;36m3\u001b[0m\u001b[0;34m\u001b[0m\u001b[0;34m\u001b[0m\u001b[0m\n\u001b[0m\u001b[1;32m     16\u001b[0m \u001b[0mprint\u001b[0m\u001b[0;34m(\u001b[0m\u001b[0;34m\"This is ev_immutable:\"\u001b[0m\u001b[0;34m,\u001b[0m \u001b[0mev_immutable\u001b[0m\u001b[0;34m.\u001b[0m\u001b[0mid_number\u001b[0m\u001b[0;34m)\u001b[0m\u001b[0;34m\u001b[0m\u001b[0;34m\u001b[0m\u001b[0m\n",
      "\u001b[0;32m~/.pyenv/versions/optimizer/lib/python3.7/site-packages/attr/_make.py\u001b[0m in \u001b[0;36m_frozen_setattrs\u001b[0;34m(self, name, value)\u001b[0m\n\u001b[1;32m    427\u001b[0m     \u001b[0mAttached\u001b[0m \u001b[0mto\u001b[0m \u001b[0mfrozen\u001b[0m \u001b[0mclasses\u001b[0m \u001b[0;32mas\u001b[0m \u001b[0m__setattr__\u001b[0m\u001b[0;34m.\u001b[0m\u001b[0;34m\u001b[0m\u001b[0;34m\u001b[0m\u001b[0m\n\u001b[1;32m    428\u001b[0m     \"\"\"\n\u001b[0;32m--> 429\u001b[0;31m     \u001b[0;32mraise\u001b[0m \u001b[0mFrozenInstanceError\u001b[0m\u001b[0;34m(\u001b[0m\u001b[0;34m)\u001b[0m\u001b[0;34m\u001b[0m\u001b[0;34m\u001b[0m\u001b[0m\n\u001b[0m\u001b[1;32m    430\u001b[0m \u001b[0;34m\u001b[0m\u001b[0m\n\u001b[1;32m    431\u001b[0m \u001b[0;34m\u001b[0m\u001b[0m\n",
      "\u001b[0;31mFrozenInstanceError\u001b[0m: "
     ]
    }
   ],
   "source": [
    "@related.mutable\n",
    "class EvMutable:\n",
    "    id_number = related.IntegerField()\n",
    "\n",
    "@related.immutable\n",
    "class EvImmutable:\n",
    "    id_number = related.IntegerField()\n",
    "\n",
    "ev_mutable = EvMutable(id_number=1)\n",
    "ev_mutable.id_number = 2\n",
    "print(\"This is ev_mutable updated it:\", ev_mutable.id_number)\n",
    "\n",
    "\n",
    "ev_immutable = EvImmutable(id_number=2)\n",
    "ev_immutable.id_number = 3\n",
    "print(\"This is ev_immutable:\", ev_immutable.id_number)"
   ]
  },
  {
   "cell_type": "markdown",
   "metadata": {
    "slideshow": {
     "slide_type": "slide"
    }
   },
   "source": [
    "Thank you\n",
    "\n",
    "\n",
    "# Thank you all"
   ]
  }
 ],
 "metadata": {
  "celltoolbar": "Slideshow",
  "kernelspec": {
   "display_name": "Python 3",
   "language": "python",
   "name": "python3"
  },
  "language_info": {
   "codemirror_mode": {
    "name": "ipython",
    "version": 3
   },
   "file_extension": ".py",
   "mimetype": "text/x-python",
   "name": "python",
   "nbconvert_exporter": "python",
   "pygments_lexer": "ipython3",
   "version": "3.7.1"
  }
 },
 "nbformat": 4,
 "nbformat_minor": 2
}
